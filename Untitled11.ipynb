{
 "cells": [
  {
   "cell_type": "code",
   "execution_count": null,
   "id": "655a3f3b-9d70-4584-a051-0da21b972474",
   "metadata": {},
   "outputs": [],
   "source": [
    "1. the three measure of central tendency is mean ,median and mode"
   ]
  },
  {
   "cell_type": "code",
   "execution_count": null,
   "id": "6a86a2f5-0f70-4d14-8b54-e9e255104538",
   "metadata": {},
   "outputs": [],
   "source": [
    "2. 'mean' means to finding the average of data,mean is sensitive towards  the outliars.\n",
    "    'median' means the mid value of data if no. of data is odd the mid value is median and if the no. of value is \n",
    "    even then there is two mid value and we take the average of that of mid value median is used to resolve the outliar.\n",
    "    \n",
    "    'mode' means the no. of frequency at which the value repeated."
   ]
  },
  {
   "cell_type": "code",
   "execution_count": 8,
   "id": "c7a31934-bdce-42d9-af38-e3e71f116dbc",
   "metadata": {},
   "outputs": [],
   "source": [
    "## 3.\n",
    "height=[178,177,176,177,178.2,178,175,179,180,175,178.9,176.2,177,172.5,178,176.5]"
   ]
  },
  {
   "cell_type": "code",
   "execution_count": 6,
   "id": "d9c3ba68-ea94-4f57-9de9-da8cf390176c",
   "metadata": {},
   "outputs": [
    {
     "data": {
      "text/plain": [
       "177.01875"
      ]
     },
     "execution_count": 6,
     "metadata": {},
     "output_type": "execute_result"
    }
   ],
   "source": [
    "##mean\n",
    "import numpy as np\n",
    "np.mean(height)"
   ]
  },
  {
   "cell_type": "code",
   "execution_count": 9,
   "id": "c5019a7a-53ab-4a3f-9afc-9927a59ed1a9",
   "metadata": {},
   "outputs": [
    {
     "data": {
      "text/plain": [
       "177.0"
      ]
     },
     "execution_count": 9,
     "metadata": {},
     "output_type": "execute_result"
    }
   ],
   "source": [
    "## median\n",
    "import numpy as np\n",
    "np.median(height)"
   ]
  },
  {
   "cell_type": "code",
   "execution_count": 15,
   "id": "eba6550e-68cd-4f60-8b94-c027ca12fd65",
   "metadata": {},
   "outputs": [
    {
     "name": "stderr",
     "output_type": "stream",
     "text": [
      "/tmp/ipykernel_1658/1939351712.py:3: FutureWarning: Unlike other reduction functions (e.g. `skew`, `kurtosis`), the default behavior of `mode` typically preserves the axis it acts along. In SciPy 1.11.0, this behavior will change: the default value of `keepdims` will become False, the `axis` over which the statistic is taken will be eliminated, and the value None will no longer be accepted. Set `keepdims` to True or False to avoid this warning.\n",
      "  stats.mode(height)\n"
     ]
    },
    {
     "data": {
      "text/plain": [
       "ModeResult(mode=array([177.]), count=array([3]))"
      ]
     },
     "execution_count": 15,
     "metadata": {},
     "output_type": "execute_result"
    }
   ],
   "source": [
    "## mode\n",
    "from scipy import stats\n",
    "stats.mode(height)"
   ]
  },
  {
   "cell_type": "code",
   "execution_count": 16,
   "id": "00cf6ffe-79b6-45ec-baef-c68d0c0d2ba2",
   "metadata": {},
   "outputs": [],
   "source": [
    "## 4.\n",
    "age_lst=[178,177,176,177,178.2,178,175,179,180,175,178.9,176.2,177,172.5,178,176.5]"
   ]
  },
  {
   "cell_type": "code",
   "execution_count": 18,
   "id": "44b87215-4551-4ce0-84d3-e36873379818",
   "metadata": {},
   "outputs": [
    {
     "data": {
      "text/plain": [
       "1.7885814036548633"
      ]
     },
     "execution_count": 18,
     "metadata": {},
     "output_type": "execute_result"
    }
   ],
   "source": [
    "import numpy as np\n",
    "np.std(age_lst)"
   ]
  },
  {
   "cell_type": "code",
   "execution_count": null,
   "id": "bad2e2d5-b91e-4a4f-8444-61c4ad7ef8d2",
   "metadata": {},
   "outputs": [],
   "source": [
    "## 5  \n",
    "range =range the the sepecific value throuh which the maximum and minimum value lies\n",
    "variance= it is the spread of data\n",
    "standard deviation=It is conclude data is dispersed . There are two type positive std deviation and negative std deviation.\n"
   ]
  },
  {
   "cell_type": "code",
   "execution_count": 19,
   "id": "af62a79f-f2fc-4108-908c-badbe22a20cd",
   "metadata": {},
   "outputs": [
    {
     "data": {
      "text/plain": [
       "3.199023437500001"
      ]
     },
     "execution_count": 19,
     "metadata": {},
     "output_type": "execute_result"
    }
   ],
   "source": [
    "import numpy as np\n",
    "np.var(age_lst)"
   ]
  },
  {
   "cell_type": "code",
   "execution_count": null,
   "id": "764b4783-1d57-414c-a8d6-99ef08da4e5a",
   "metadata": {},
   "outputs": [],
   "source": [
    "## 8 .\n",
    "when data is in single direction ."
   ]
  },
  {
   "cell_type": "code",
   "execution_count": null,
   "id": "61d2f830-09fb-49bf-94a0-a877604b334c",
   "metadata": {},
   "outputs": [],
   "source": [
    "##6\n",
    "the diagram that represent the universal set of data is called venn diagram."
   ]
  },
  {
   "cell_type": "code",
   "execution_count": null,
   "id": "ad16f213-225c-44aa-b0d7-4b93127e1324",
   "metadata": {},
   "outputs": [],
   "source": [
    "##7 a intersection b=2,6\n",
    "a union b=0,2,3,4,5,6,7,8,10"
   ]
  },
  {
   "cell_type": "code",
   "execution_count": null,
   "id": "8f952051-b35f-4cc3-a30e-e2b34d9a07a8",
   "metadata": {},
   "outputs": [],
   "source": []
  }
 ],
 "metadata": {
  "kernelspec": {
   "display_name": "Python 3 (ipykernel)",
   "language": "python",
   "name": "python3"
  },
  "language_info": {
   "codemirror_mode": {
    "name": "ipython",
    "version": 3
   },
   "file_extension": ".py",
   "mimetype": "text/x-python",
   "name": "python",
   "nbconvert_exporter": "python",
   "pygments_lexer": "ipython3",
   "version": "3.10.8"
  }
 },
 "nbformat": 4,
 "nbformat_minor": 5
}
